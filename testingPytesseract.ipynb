{
 "cells": [
  {
   "cell_type": "code",
   "execution_count": 27,
   "metadata": {},
   "outputs": [],
   "source": [
    "import argparse\n",
    "import pytesseract\n",
    "import cv2\n",
    "\n",
    "# Path to the location of the Tesseract-OCR executable/command\n",
    "pytesseract.pytesseract.tesseract_cmd = \"C:/Program Files/Tesseract-OCR/tesseract.exe\""
   ]
  },
  {
   "cell_type": "code",
   "execution_count": 1,
   "metadata": {},
   "outputs": [
    {
     "name": "stdout",
     "output_type": "stream",
     "text": [
      "<PIL.Image.Image image mode=L size=1200x700 at 0x21BCD8A1270>\n",
      "還\n",
      "\n"
     ]
    }
   ],
   "source": [
    "import pytesseract\n",
    "from PIL import Image\n",
    "\n",
    "# Load the image\n",
    "img = Image.open('imageSEG.png')\n",
    "    \n",
    "# Convert the image to grayscale\n",
    "img = img.convert('L')\n",
    "\n",
    "print(img)\n",
    "# Perform OCR on the image in Japanese language\n",
    "config = '--psm 13 --oem 3 -c preserve_interword_spaces=1'\n",
    "text = pytesseract.image_to_string(img, lang='jpn', config=config)\n",
    "\n",
    "# Print the extracted text\n",
    "print(text)"
   ]
  },
  {
   "cell_type": "code",
   "execution_count": 29,
   "metadata": {},
   "outputs": [
    {
     "name": "stdout",
     "output_type": "stream",
     "text": [
      "['0' '1' '2' '3' '4' '5' '6' '7' '8' '9' 'A' 'B' 'C' 'D' 'E' 'F' 'G' 'H'\n",
      " 'I' 'J' 'K' 'L' 'M' 'N' 'O' 'P' 'Q' 'R' 'S' 'T' 'U' 'V' 'W' 'X' 'Y' 'Z']\n"
     ]
    }
   ],
   "source": [
    "from sklearn.preprocessing import LabelEncoder\n",
    "import numpy as np\n",
    "\n",
    "labels = LabelEncoder()\n",
    "labels.classes_ = np.load(\"license_character_classes.npy\")\n",
    "print(labels.classes_)"
   ]
  },
  {
   "cell_type": "code",
   "execution_count": 3,
   "metadata": {},
   "outputs": [
    {
     "name": "stdout",
     "output_type": "stream",
     "text": [
      "['クノスウシムラジオニ', '上浦', '32.88']\n"
     ]
    }
   ],
   "source": [
    "import easyocr\n",
    "\n",
    "# Initialize the EasyOCR reader\n",
    "reader = easyocr.Reader([ 'en','ja'],recog_network='japanese_g2',)\n",
    "\n",
    "# Load the image\n",
    "# Perform OCR on the image\n",
    "result = reader.readtext('Plate_examples\\jp9.jpg',paragraph=False,detail = 0)\n",
    "print(result)"
   ]
  },
  {
   "cell_type": "code",
   "execution_count": 6,
   "metadata": {},
   "outputs": [],
   "source": [
    "import difflib\n",
    "\n",
    "def match_org(text, org_type):\n",
    "    match_value = []\n",
    "    if org_type == \"ja\":\n",
    "        places_name = [\n",
    "            \"静岡\",\n",
    "            \"福岡\",\n",
    "            \"福島\",\n",
    "            \"岐阜\",\n",
    "            \"群馬\",\n",
    "            \"広島\",\n",
    "            \"金沢\",\n",
    "            \"北見\",\n",
    "            \"高知\",\n",
    "            \"新潟市\",\n",
    "            \"帯広\",\n",
    "            \"大分\",\n",
    "            \"徳島\",\n",
    "            \"富山\",\n",
    "            \"宇都宮\",\n",
    "            \"岡山\",\n",
    "            \"札幌\",\n",
    "            \"仙台\",\n",
    "            \"沼津\",\n",
    "            \"千葉\",\n",
    "            \"山梨\",\n",
    "            \"多摩\",\n",
    "            \"大阪\",\n",
    "            \"横浜\",\n",
    "            \"前橋\",\n",
    "            \"練馬\",\n",
    "            \"和歌山\",\n",
    "            \"神戸\" , \n",
    "            \"宮崎\", \n",
    "            \"埼玉\",\n",
    "            \"熊谷\",\n",
    "            \"品川\",\n",
    "            \"奈良\",\n",
    "            \"足立\" , \n",
    "            \"京都\",\n",
    "            \"なにわ\" , \n",
    "            \"姫路\" ,\n",
    "            \"川崎\",\n",
    "            \"野田\"\n",
    "        ]\n",
    "    for x in places_name:\n",
    "        sequence = difflib.SequenceMatcher(isjunk=None, a=x, b=text)\n",
    "        difference = sequence.ratio()\n",
    "        match_value.append(difference)\n",
    "    confidence = max(match_value)\n",
    "    print(f\"{org_type} Org matching confidence: {confidence}\")\n",
    "    a = match_value.index(confidence)\n",
    "    organization_name = places_name[a]\n",
    "    return organization_name if confidence else \"\""
   ]
  },
  {
   "cell_type": "code",
   "execution_count": 12,
   "metadata": {},
   "outputs": [
    {
     "name": "stdout",
     "output_type": "stream",
     "text": [
      "ja Org matching confidence: 0.2857142857142857\n",
      "野田\n"
     ]
    }
   ],
   "source": [
    "match = match_org(result[0],'ja')\n",
    "print(match)"
   ]
  },
  {
   "cell_type": "code",
   "execution_count": 11,
   "metadata": {},
   "outputs": [
    {
     "name": "stdout",
     "output_type": "stream",
     "text": [
      "NODA\n"
     ]
    }
   ],
   "source": [
    "# convert to english \n",
    "places_name_dict = {\n",
    "\"静岡\"    :  \"SHIZUOKA\"    ,\n",
    "\"福岡\"    :  \"FUKUOKA\"    ,\n",
    "\"福島\"    :  \"FUKUSHIMA\"    ,\n",
    "\"岐阜\"    :  \"GIFU\"    ,\n",
    "\"群馬\"    :  \"GUNMA\"    ,\n",
    "\"広島\"    :  \"HIROSHIMA\"    ,\n",
    "\"金沢\"    :  \"KANAZAWA\"    ,\n",
    "\"北見\"    :  \"KITAMI\"    ,\n",
    "\"高知\"    :  \"KOCHI\"    ,\n",
    "\"新潟市\"  :  \"NIIGATA\"    ,\n",
    "\"帯広\"    :  \"OBIHIRO\"    ,\n",
    "\"大分\"    :  \"OITA\"    ,\n",
    "\"徳島\"    :  \"TOKUSHIMA\"    ,\n",
    "\"富山\"    :  \"TOYAMA\"    ,\n",
    "\"宇都宮\"  :  \"UTSUNOMIYA\"    ,\n",
    "\"岡山\"    :  \"OKAYAMA\"    ,\n",
    "\"札幌\"    :  \"SAPPORO\"    ,\n",
    "\"仙台\"    :  \"SENDAI\"    ,\n",
    "\"沼津\"    :  \"NUMAZU\"    ,\n",
    "\"千葉\"    :  \"CHIBA\"    ,\n",
    "\"山梨\"    :  \"YAMANASHI\"    ,\n",
    "\"多摩\"    :  \"TAMA\"    ,\n",
    "\"大阪\"    :  \"OSAKA\"    ,\n",
    "\"横浜\"    :  \"YOKOHAMA\"    ,\n",
    "\"前橋\"    :  \"MAEBASHI\"    ,\n",
    "\"練馬\"    :  \"NERIMA\"    ,\n",
    "\"和歌山\"  :  \"WAKAYAMA\"    ,\n",
    "\"神戸\"    :  \"KOBE\"    ,\n",
    "\"宮崎\"    :  \"MIYAZAKI\"    ,\n",
    "\"埼玉\"    :  \"SAITAMA\"    ,\n",
    "\"熊谷\"    :  \"KUMAGAYA\"    ,\n",
    "\"品川\"    :  \"SHINAGAWA\"    ,\n",
    "\"奈良\"    :  \"NARA\"    ,\n",
    "\"足立\"    :  \"ADACHI\"    ,\n",
    "\"京都\"    :  \"KYOTO\"    ,\n",
    "\"なにわ\"  :  \"NANIWA\"    ,\n",
    "\"姫路\"    :  \"HIMEJI\"    ,\n",
    "\"川崎\"    :  \"KAWASAKI\"  ,\n",
    "\"野田\"    : \"NODA\"\n",
    "}\n",
    "print(places_name_dict[match])"
   ]
  }
 ],
 "metadata": {
  "kernelspec": {
   "display_name": "Python 3",
   "language": "python",
   "name": "python3"
  },
  "language_info": {
   "codemirror_mode": {
    "name": "ipython",
    "version": 3
   },
   "file_extension": ".py",
   "mimetype": "text/x-python",
   "name": "python",
   "nbconvert_exporter": "python",
   "pygments_lexer": "ipython3",
   "version": "3.10.9"
  },
  "orig_nbformat": 4
 },
 "nbformat": 4,
 "nbformat_minor": 2
}
